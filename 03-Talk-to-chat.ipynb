{
 "cells": [
  {
   "cell_type": "code",
   "execution_count": 1,
   "id": "8affe601",
   "metadata": {},
   "outputs": [],
   "source": [
    "import os\n",
    "import openai\n",
    "from langchain import PromptTemplate\n",
    "from langchain.vectorstores import Chroma\n",
    "from langchain.chat_models import ChatOpenAI\n",
    "from langchain.embeddings.openai import OpenAIEmbeddings\n",
    "from langchain.chains import ConversationalRetrievalChain\n",
    "\n",
    "os.environ[\"OPENAI_API_KEY\"] = \"\""
   ]
  },
  {
   "cell_type": "code",
   "execution_count": 13,
   "id": "050ae2bf",
   "metadata": {},
   "outputs": [
    {
     "name": "stderr",
     "output_type": "stream",
     "text": [
      "Using embedded DuckDB with persistence: data will be stored in: /Users/nirmalvatsyayan/Desktop/Personal-NirmalVatsyayan/SM-Travel/chroma\n"
     ]
    },
    {
     "name": "stdout",
     "output_type": "stream",
     "text": [
      "/Users/nirmalvatsyayan/Desktop/Personal-NirmalVatsyayan/SM-Travel/chroma\n"
     ]
    }
   ],
   "source": [
    "print(os.getcwd()+\"/chroma\")\n",
    "\n",
    "VECTOR_DB = Chroma(embedding_function=OpenAIEmbeddings(), persist_directory=os.getcwd()+\"/chroma\", collection_metadata={\"hnsw:space\": \"cosine\"}).as_retriever(search_type=\"similarity_score_threshold\", search_kwargs={\"k\": 10, \"score_threshold\":0.7})\n"
   ]
  },
  {
   "cell_type": "code",
   "execution_count": 31,
   "id": "24835664",
   "metadata": {},
   "outputs": [
    {
     "name": "stdout",
     "output_type": "stream",
     "text": [
      "Enter the question: best countries to visit in asia with kids\n"
     ]
    }
   ],
   "source": [
    "question = input(\"Enter the question: \")\n",
    "\n",
    "system_template = \"\"\"\n",
    "You are a travel expert. Answer below question using the context mentioned.\n",
    "Do not hallucinate, if you don't find answer in the context, just reply, i don't know.\n",
    "\n",
    "Context: {context}\n",
    "Question: {question}?\n",
    "\n",
    "Relevant answer:\n",
    "\"\"\"\n",
    "\n",
    "\n",
    "PROMPT = PromptTemplate(\n",
    "                     input_variables=[\"context\", \"question\"], \n",
    "                     template=system_template\n",
    "         )\n",
    "\n",
    "QA_MODEL = ConversationalRetrievalChain.from_llm(ChatOpenAI(temperature=0, model_name=\"gpt-3.5-turbo-16k\", max_tokens=500, verbose=False), VECTOR_DB, verbose=False, combine_docs_chain_kwargs={'prompt': PROMPT})\n",
    "\n",
    "data = {\"question\": question, \"chat_history\": []}\n",
    "result = QA_MODEL(data)\n"
   ]
  },
  {
   "cell_type": "code",
   "execution_count": 32,
   "id": "6cd6de83",
   "metadata": {},
   "outputs": [
    {
     "data": {
      "text/plain": [
       "'Based on the context provided, some potential countries to visit in Asia with kids could include Singapore, Malaysia (Kuala Lumpur), Thailand (Bangkok), and Japan (Tokyo). These destinations offer a variety of family-friendly attractions, such as theme parks, museums, and cultural experiences.'"
      ]
     },
     "execution_count": 32,
     "metadata": {},
     "output_type": "execute_result"
    }
   ],
   "source": [
    "result[\"answer\"]"
   ]
  },
  {
   "cell_type": "code",
   "execution_count": null,
   "id": "2b1aa6ed",
   "metadata": {},
   "outputs": [],
   "source": [
    "#any suggestions on experiencing traditional japan\n",
    "#best places to visit in Asia\n",
    "#recommendations for a Vietnam itinerary for 5-6 days\n",
    "#best resrts in south goa\n",
    "#share places to visit in singapore, also share few resorts to stay\n",
    "#best countries to visit in asia with kids"
   ]
  }
 ],
 "metadata": {
  "kernelspec": {
   "display_name": "Python 3 (ipykernel)",
   "language": "python",
   "name": "python3"
  },
  "language_info": {
   "codemirror_mode": {
    "name": "ipython",
    "version": 3
   },
   "file_extension": ".py",
   "mimetype": "text/x-python",
   "name": "python",
   "nbconvert_exporter": "python",
   "pygments_lexer": "ipython3",
   "version": "3.9.6"
  }
 },
 "nbformat": 4,
 "nbformat_minor": 5
}
