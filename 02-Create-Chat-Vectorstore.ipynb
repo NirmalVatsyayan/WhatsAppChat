{
 "cells": [
  {
   "cell_type": "code",
   "execution_count": 5,
   "id": "60328696",
   "metadata": {},
   "outputs": [],
   "source": [
    "import os\n",
    "import openai\n",
    "import chromadb\n",
    "from chromadb.config import Settings\n",
    "\n",
    "from langchain.embeddings.openai import OpenAIEmbeddings\n",
    "from langchain.vectorstores import Chroma\n",
    "from langchain.document_loaders import TextLoader\n",
    "from langchain.text_splitter import RecursiveCharacterTextSplitter\n"
   ]
  },
  {
   "cell_type": "code",
   "execution_count": 6,
   "id": "09515c37",
   "metadata": {},
   "outputs": [],
   "source": [
    "embedding = OpenAIEmbeddings(openai_api_key=\"\")"
   ]
  },
  {
   "cell_type": "code",
   "execution_count": 8,
   "id": "5baec9a2",
   "metadata": {},
   "outputs": [],
   "source": [
    "\n",
    "loader = TextLoader(\"summary.txt\")\n",
    "documents = loader.load()\n",
    "\n",
    "chunk_size = 500\n",
    "chunk_overlap = 0\n",
    "\n",
    "texts = RecursiveCharacterTextSplitter(chunk_size=chunk_size, chunk_overlap=chunk_overlap, separators=[\"\\n\\n\"])\n",
    "docs = texts.split_documents(documents)\n",
    "\n",
    "#docs"
   ]
  },
  {
   "cell_type": "code",
   "execution_count": 9,
   "id": "3b262e2a",
   "metadata": {},
   "outputs": [],
   "source": [
    "CHROMA_SETTINGS = Settings(\n",
    "        chroma_db_impl='duckdb+parquet',\n",
    "        persist_directory=os.getcwd()+\"/chroma\",\n",
    "        anonymized_telemetry=False\n",
    ")"
   ]
  },
  {
   "cell_type": "code",
   "execution_count": 10,
   "id": "341856bd",
   "metadata": {},
   "outputs": [
    {
     "name": "stderr",
     "output_type": "stream",
     "text": [
      "Using embedded DuckDB with persistence: data will be stored in: /Users/nirmalvatsyayan/Desktop/Personal-NirmalVatsyayan/SM-Travel/chroma\n"
     ]
    }
   ],
   "source": [
    "vstore = Chroma.from_documents(docs, embedding, persist_directory=os.getcwd()+\"/chroma\", client_settings=CHROMA_SETTINGS)\n",
    "vstore.persist()"
   ]
  },
  {
   "cell_type": "code",
   "execution_count": null,
   "id": "9ae9dc7d",
   "metadata": {},
   "outputs": [],
   "source": []
  }
 ],
 "metadata": {
  "kernelspec": {
   "display_name": "Python 3 (ipykernel)",
   "language": "python",
   "name": "python3"
  },
  "language_info": {
   "codemirror_mode": {
    "name": "ipython",
    "version": 3
   },
   "file_extension": ".py",
   "mimetype": "text/x-python",
   "name": "python",
   "nbconvert_exporter": "python",
   "pygments_lexer": "ipython3",
   "version": "3.9.6"
  }
 },
 "nbformat": 4,
 "nbformat_minor": 5
}
