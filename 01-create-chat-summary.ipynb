{
 "cells": [
  {
   "cell_type": "code",
   "execution_count": null,
   "id": "4a469ec9",
   "metadata": {},
   "outputs": [],
   "source": [
    "import os\n",
    "import openai\n",
    "import tiktoken\n",
    "from dotenv import load_dotenv, find_dotenv\n",
    "_ = load_dotenv(find_dotenv()) # read local .env file\n",
    "\n",
    "#openai.api_key  = os.environ['OPENAI_API_KEY']\n",
    "openai.api_key  = \"\""
   ]
  },
  {
   "cell_type": "code",
   "execution_count": null,
   "id": "512723f4",
   "metadata": {},
   "outputs": [],
   "source": [
    "from langchain.embeddings.openai import OpenAIEmbeddings\n",
    "from langchain.vectorstores import Chroma\n",
    "from langchain import OpenAI\n",
    "from langchain.document_loaders import TextLoader\n",
    "from langchain.chains.summarize import load_summarize_chain\n",
    "from langchain.text_splitter import RecursiveCharacterTextSplitter\n",
    "\n",
    "import os\n",
    "import nltk\n",
    "#import magic"
   ]
  },
  {
   "cell_type": "code",
   "execution_count": null,
   "id": "123ed042",
   "metadata": {},
   "outputs": [],
   "source": [
    "# loader = UnstructuredFileLoader(\"C:\\\\work\\\\labs\\\\openai\\\\chatpdf\\\\chat.txt\", encoding='utf8')\n",
    "# docs = loader.load()\n",
    "\n",
    "chunk_size = 1000\n",
    "chunk_overlap = 0\n",
    "\n",
    "filename = \"C:\\\\work\\\\labs\\\\openai\\\\chatpdf\\\\chat.txt\"\n",
    "loader = TextLoader(filename)\n",
    "documents = loader.load()\n",
    "text_splitter = RecursiveCharacterTextSplitter(chunk_size=chunk_size, chunk_overlap=chunk_overlap, separators=[ \"\\n\"])\n",
    "texts = text_splitter.split_documents(documents)"
   ]
  },
  {
   "cell_type": "code",
   "execution_count": null,
   "id": "287b02d6",
   "metadata": {},
   "outputs": [],
   "source": [
    "llm = OpenAI(temperature=0)\n",
    "\n",
    "\n",
    "#r = open(\"summary.txt\", \"r\")\n",
    "#temp_summary =  r.read()\n",
    "if os.path.exists(\"summary.txt\"):\n",
    "    r = open(\"summary.txt\", \"r\")\n",
    "    overall_summary =  r.read()\n",
    "else:\n",
    "    map_reduce_chain  = load_summarize_chain(llm, chain_type='map_reduce', verbose=False)\n",
    "    overall_summary = \"\"\n",
    "    for text in texts:\n",
    "        summary = map_reduce_chain.run([text])\n",
    "        overall_summary += summary + \"\\n\"\n",
    "    f = open(\"summary.txt\", \"w\")\n",
    "    f.write(overall_summary)\n",
    "    f.close()\n"
   ]
  }
 ],
 "metadata": {
  "kernelspec": {
   "display_name": "Python 3 (ipykernel)",
   "language": "python",
   "name": "python3"
  },
  "language_info": {
   "codemirror_mode": {
    "name": "ipython",
    "version": 3
   },
   "file_extension": ".py",
   "mimetype": "text/x-python",
   "name": "python",
   "nbconvert_exporter": "python",
   "pygments_lexer": "ipython3",
   "version": "3.9.6"
  }
 },
 "nbformat": 4,
 "nbformat_minor": 5
}
